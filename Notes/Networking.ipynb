{
 "cells": [
  {
   "cell_type": "markdown",
   "metadata": {},
   "source": [
    "# Introduction to Networking"
   ]
  },
  {
   "cell_type": "code",
   "execution_count": null,
   "metadata": {},
   "outputs": [],
   "source": []
  },
  {
   "cell_type": "markdown",
   "metadata": {},
   "source": [
    "## What is TCP/IP ?\n",
    "\n",
    "**TCP** stands for **Transmission Control Protocol**\n",
    "**IP** stands for **Internet Protocol**\n",
    "\n",
    "The way TCP work is often conceptualized using layers, take a burger for example!\n",
    "\n",
    "1. Application Layer: Programs like web browsers directly interact with, this layer has protocols like **HTTP**, **STMP**, **FTP**\n",
    "2. Transport Layer: TCP along with UDP lives in the transport layer. UDP is bit faster and useful for low latency applications(like online games)\n",
    "\n",
    "After the application layer gets the data from a *program* it talks to the **Transport Layer** using **ports**. Each port can be assigned to a different protocol in the application layer. So the TCP knows where the data is coming from. Example: Most activity in the web-browser will go through **port 80** which **HTTP** always uses.\n",
    "\n",
    "Once TCP gets the data, it chops to small chunks called **packets**, where they can be *individually take the quickest route over the internet to get wherever it is going.* To makesure that the receving computer can put the packets back together **TCP** slaps a *header* onto  each packet that contains instructions on how to assemble them.\n",
    "\n",
    "After the packets are assembled, packets are pushed onto the **Internet Layer** which uses the internet protocol (**IP**) to attach both the *origin* & *destination IP address* so the packet knows where it came from and where its going and the data is then sent through the final **network layer** that handles things like *MAC Addressing* so the packets go to the right physical machine as well as converting the data into electrical impulses  that will pass through \"series of tubes\"\n",
    "\n",
    "Although every single packet of data needs to go through each layer, packet switching actually makes the internet faster.\n",
    "\n",
    "[Youtube Video](https://www.youtube.com/watch?v=KEWe-5Bk3Q0)"
   ]
  },
  {
   "cell_type": "markdown",
   "metadata": {},
   "source": [
    "## FTP\n",
    "\n",
    "**FTP** stands for file transfer protocol and it is the standard way of being able to upload files to your linux server. FTP is a client-server technology, we have software installed in the server and we have software on the client and we will be using that to interact with the FTP server.\n",
    "\n",
    "The default port that used for ftp is port 21. "
   ]
  },
  {
   "cell_type": "code",
   "execution_count": null,
   "metadata": {},
   "outputs": [],
   "source": []
  }
 ],
 "metadata": {
  "kernelspec": {
   "display_name": "Python 3",
   "language": "python",
   "name": "python3"
  },
  "language_info": {
   "codemirror_mode": {
    "name": "ipython",
    "version": 3
   },
   "file_extension": ".py",
   "mimetype": "text/x-python",
   "name": "python",
   "nbconvert_exporter": "python",
   "pygments_lexer": "ipython3",
   "version": "3.8.3"
  }
 },
 "nbformat": 4,
 "nbformat_minor": 4
}
